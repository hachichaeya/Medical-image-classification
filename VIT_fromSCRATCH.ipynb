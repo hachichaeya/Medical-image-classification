{
  "cells": [
    {
      "cell_type": "code",
      "execution_count": null,
      "metadata": {
        "id": "pOzGm3yMOMuL",
        "colab": {
          "base_uri": "https://localhost:8080/"
        },
        "outputId": "fd573a2f-8f5c-41d7-a0a6-745e91595d10"
      },
      "outputs": [
        {
          "output_type": "stream",
          "name": "stdout",
          "text": [
            "Looking in indexes: https://pypi.org/simple, https://us-python.pkg.dev/colab-wheels/public/simple/\n",
            "Collecting transformers\n",
            "  Downloading transformers-4.28.1-py3-none-any.whl (7.0 MB)\n",
            "\u001b[2K     \u001b[90m━━━━━━━━━━━━━━━━━━━━━━━━━━━━━━━━━━━━━━━━\u001b[0m \u001b[32m7.0/7.0 MB\u001b[0m \u001b[31m36.1 MB/s\u001b[0m eta \u001b[36m0:00:00\u001b[0m\n",
            "\u001b[?25hRequirement already satisfied: pyyaml>=5.1 in /usr/local/lib/python3.10/dist-packages (from transformers) (6.0)\n",
            "Collecting tokenizers!=0.11.3,<0.14,>=0.11.1\n",
            "  Downloading tokenizers-0.13.3-cp310-cp310-manylinux_2_17_x86_64.manylinux2014_x86_64.whl (7.8 MB)\n",
            "\u001b[2K     \u001b[90m━━━━━━━━━━━━━━━━━━━━━━━━━━━━━━━━━━━━━━━━\u001b[0m \u001b[32m7.8/7.8 MB\u001b[0m \u001b[31m49.5 MB/s\u001b[0m eta \u001b[36m0:00:00\u001b[0m\n",
            "\u001b[?25hRequirement already satisfied: numpy>=1.17 in /usr/local/lib/python3.10/dist-packages (from transformers) (1.22.4)\n",
            "Requirement already satisfied: tqdm>=4.27 in /usr/local/lib/python3.10/dist-packages (from transformers) (4.65.0)\n",
            "Requirement already satisfied: requests in /usr/local/lib/python3.10/dist-packages (from transformers) (2.27.1)\n",
            "Requirement already satisfied: filelock in /usr/local/lib/python3.10/dist-packages (from transformers) (3.12.0)\n",
            "Collecting huggingface-hub<1.0,>=0.11.0\n",
            "  Downloading huggingface_hub-0.14.1-py3-none-any.whl (224 kB)\n",
            "\u001b[2K     \u001b[90m━━━━━━━━━━━━━━━━━━━━━━━━━━━━━━━━━━━━━━\u001b[0m \u001b[32m224.5/224.5 kB\u001b[0m \u001b[31m11.9 MB/s\u001b[0m eta \u001b[36m0:00:00\u001b[0m\n",
            "\u001b[?25hRequirement already satisfied: regex!=2019.12.17 in /usr/local/lib/python3.10/dist-packages (from transformers) (2022.10.31)\n",
            "Requirement already satisfied: packaging>=20.0 in /usr/local/lib/python3.10/dist-packages (from transformers) (23.1)\n",
            "Requirement already satisfied: fsspec in /usr/local/lib/python3.10/dist-packages (from huggingface-hub<1.0,>=0.11.0->transformers) (2023.4.0)\n",
            "Requirement already satisfied: typing-extensions>=3.7.4.3 in /usr/local/lib/python3.10/dist-packages (from huggingface-hub<1.0,>=0.11.0->transformers) (4.5.0)\n",
            "Requirement already satisfied: certifi>=2017.4.17 in /usr/local/lib/python3.10/dist-packages (from requests->transformers) (2022.12.7)\n",
            "Requirement already satisfied: urllib3<1.27,>=1.21.1 in /usr/local/lib/python3.10/dist-packages (from requests->transformers) (1.26.15)\n",
            "Requirement already satisfied: charset-normalizer~=2.0.0 in /usr/local/lib/python3.10/dist-packages (from requests->transformers) (2.0.12)\n",
            "Requirement already satisfied: idna<4,>=2.5 in /usr/local/lib/python3.10/dist-packages (from requests->transformers) (3.4)\n",
            "Installing collected packages: tokenizers, huggingface-hub, transformers\n",
            "Successfully installed huggingface-hub-0.14.1 tokenizers-0.13.3 transformers-4.28.1\n"
          ]
        }
      ],
      "source": [
        "pip install transformers"
      ]
    },
    {
      "cell_type": "code",
      "execution_count": null,
      "metadata": {
        "id": "2XKQd8mhowsD"
      },
      "outputs": [],
      "source": [
        "import os\n",
        "from PIL import Image\n",
        "from sklearn.model_selection import train_test_split\n",
        "import torch\n",
        "import torchvision.transforms as transforms\n",
        "import torch.optim as optim\n",
        "from transformers import ViTForImageClassification, ViTFeatureExtractor\n",
        "import torch.nn as nn\n",
        "\n"
      ]
    },
    {
      "cell_type": "code",
      "execution_count": null,
      "metadata": {
        "id": "-QXLR0peqDTc",
        "colab": {
          "base_uri": "https://localhost:8080/"
        },
        "outputId": "ead11d64-877a-4c5a-d475-da7af46d58f6"
      },
      "outputs": [
        {
          "output_type": "stream",
          "name": "stdout",
          "text": [
            "Mounted at /content/drive\n"
          ]
        }
      ],
      "source": [
        "from google.colab import drive\n",
        "drive.mount('/content/drive')"
      ]
    },
    {
      "cell_type": "code",
      "execution_count": null,
      "metadata": {
        "id": "H2FM4Dg0o9CN"
      },
      "outputs": [],
      "source": [
        "import os\n",
        "os.chdir('/content/drive/My Drive/pfa/dataset mini projet')"
      ]
    },
    {
      "cell_type": "code",
      "execution_count": null,
      "metadata": {
        "id": "RdXHuphpViNN",
        "colab": {
          "base_uri": "https://localhost:8080/"
        },
        "outputId": "024bc18b-c1ef-4492-9bfe-8f36379ba999"
      },
      "outputs": [
        {
          "output_type": "stream",
          "name": "stdout",
          "text": [
            "Taille de l'ensemble d'entraînement normal : 722\n",
            "Taille de l'ensemble d'entraînement anormal : 722\n",
            "Taille de l'ensemble de validation normal : 150\n",
            "Taille de l'ensemble de validation anormal : 150\n",
            "Taille de l'ensemble de test normal : 128\n",
            "Taille de l'ensemble de test anormal : 128\n"
          ]
        }
      ],
      "source": [
        "import os\n",
        "from PIL import Image\n",
        "from sklearn.model_selection import train_test_split\n",
        "# Vérifiez si les dossiers existent, sinon, créez-les\n",
        "if not os.path.exists('entrai/normal'):\n",
        "    os.makedirs('entrai/normal')\n",
        "if not os.path.exists('entrai/abnormal'):\n",
        "    os.makedirs('entrai/abnormal')\n",
        "if not os.path.exists('test/normal'):\n",
        "    os.makedirs('test/normal')\n",
        "if not os.path.exists('test/abnormal'):\n",
        "    os.makedirs('test/abnormal')\n",
        "if not os.path.exists('val/normal'):\n",
        "    os.makedirs('val/normal')\n",
        "if not os.path.exists('val/abnormal'):\n",
        "    os.makedirs('val/abnormal')\n",
        "\n",
        "# Spécifiez les chemins d'accès aux répertoires contenant vos images\n",
        "normal_dir = '/content/drive/My Drive/pfa/dataset mini projet/Normal'\n",
        "abnormal_dir = '/content/drive/My Drive/pfa/dataset mini projet/Abnormal'\n",
        "\n",
        "# Chargez les images de chaque classe dans une liste\n",
        "normal_imgs = []\n",
        "abnormal_imgs = []\n",
        "\n",
        "for filename in os.listdir(normal_dir):\n",
        "    if filename.endswith('.jpg'):\n",
        "        filepath = os.path.join(normal_dir, filename)\n",
        "        with Image.open(filepath) as img:\n",
        "            normal_imgs.append(img.copy())\n",
        "            img.close()\n",
        "\n",
        "\n",
        "for filename in os.listdir(abnormal_dir):\n",
        "    if filename.endswith('.jpg'):\n",
        "        filepath = os.path.join(abnormal_dir, filename)\n",
        "        with Image.open(filepath) as img:\n",
        "            abnormal_imgs.append(img.copy())\n",
        "            img.close()\n",
        "\n",
        "\n",
        "# Diviser l'ensemble de données normal en ensembles d'entraînement, de validation et de test\n",
        "X_train_normal, X_val_normal, y_train_normal, y_val_normal = train_test_split(normal_imgs, [0] * len(normal_imgs), test_size=0.15, random_state=42)\n",
        "X_train_normal, X_test_normal, y_train_normal, y_test_normal = train_test_split(X_train_normal, y_train_normal, test_size=0.15, random_state=42)\n",
        "\n",
        "\n",
        "X_train_abnormal, X_val_abnormal, y_train_abnormal, y_val_abnormal = train_test_split(abnormal_imgs, [1] * len(abnormal_imgs), test_size=0.15, random_state=42)\n",
        "X_train_abnormal, X_test_abnormal, y_train_abnormal, y_test_abnormal = train_test_split(X_train_abnormal, y_train_abnormal, test_size=0.15, random_state=42)\n",
        "\n",
        "# Concaténer les ensembles d'entraînement et de validation pour chaque classe\n",
        "X_train = X_train_normal + X_train_abnormal\n",
        "X_val = X_val_normal + X_val_abnormal\n",
        "y_train = y_train_normal + y_train_abnormal\n",
        "y_val = y_val_normal + y_val_abnormal\n",
        "\n",
        "# Concaténer les ensembles de test pour chaque classe\n",
        "X_test = X_test_normal + X_test_abnormal\n",
        "y_test = y_test_normal + y_test_abnormal\n",
        "\n",
        "\n",
        "# Enregistrez les images d'entraînement pour chaque classe\n",
        "normal_train = [img for img, label in zip(X_train, y_train) if label == 0]\n",
        "for i, img in enumerate(normal_train):\n",
        "    filename = f\"train_normal_{i}.jpg\"\n",
        "    filepath = os.path.join('entrai/normal', filename)\n",
        "    img.save(filepath)\n",
        "\n",
        "anormal_train = [img for img, label in zip(X_train, y_train) if label == 1]\n",
        "for i, img in enumerate(anormal_train):\n",
        "  filename = f\"train_anormal_{i}.jpg\"\n",
        "  filepath = os.path.join('entrai/abnormal', filename)\n",
        "  img.save(filepath)\n",
        "\n",
        "# Enregistrez les images de validation pour chaque classe\n",
        "normal_val = [img for img, label in zip(X_val, y_val) if label == 0]\n",
        "for i, img in enumerate(normal_val):\n",
        "  filename = f\"val_normal_{i}.jpg\"\n",
        "  filepath = os.path.join('val/normal', filename)\n",
        "  img.save(filepath)\n",
        "\n",
        "anormal_val = [img for img, label in zip(X_val, y_val) if label == 1]\n",
        "for i, img in enumerate(anormal_val):\n",
        "  filename = f\"val_anormal_{i}.jpg\"\n",
        "  filepath = os.path.join('val/abnormal', filename)\n",
        "  img.save(filepath)\n",
        "\n",
        "# Enregistrez les images de test pour chaque classe\n",
        "normal_test = [img for img, label in zip(X_test, y_test) if label == 0]\n",
        "for i, img in enumerate(normal_test):\n",
        "  filename = f\"test_normal_{i}.jpg\"\n",
        "  filepath = os.path.join('test/normal', filename)\n",
        "  img.save(filepath)\n",
        "\n",
        "anormal_test = [img for img, label in zip(X_test, y_test) if label == 1]\n",
        "for i, img in enumerate(anormal_test):\n",
        "  filename = f\"test_anormal_{i}.jpg\"\n",
        "  filepath = os.path.join('test/abnormal', filename)\n",
        "  img.save(filepath)\n",
        "\n",
        "\n",
        "# Vérifiez les tailles des ensembles de données\n",
        "print(f\"Taille de l'ensemble d'entraînement normal : {len(X_train_normal)}\")\n",
        "print(f\"Taille de l'ensemble d'entraînement anormal : {len(X_train_abnormal)}\")\n",
        "print(f\"Taille de l'ensemble de validation normal : {len(X_val_normal)}\")\n",
        "print(f\"Taille de l'ensemble de validation anormal : {len(X_val_abnormal)}\")\n",
        "print(f\"Taille de l'ensemble de test normal : {len(X_test_normal)}\")\n",
        "print(f\"Taille de l'ensemble de test anormal : {len(X_test_abnormal)}\")\n"
      ]
    },
    {
      "cell_type": "code",
      "execution_count": null,
      "metadata": {
        "id": "nPyj7hxvOp6M"
      },
      "outputs": [],
      "source": [
        "import torch\n",
        "import torch.nn as nn\n",
        "import torch.optim as optim\n",
        "from torch.utils.data import DataLoader\n",
        "from torchvision import transforms, datasets\n",
        "from torchvision.models import resnet18\n",
        "from tqdm import tqdm\n"
      ]
    },
    {
      "cell_type": "markdown",
      "metadata": {
        "id": "8GeMPUaRpM6D"
      },
      "source": [
        "**il faut définir la classe du modèle ViT **( expliquer ds le document)"
      ]
    },
    {
      "cell_type": "code",
      "execution_count": null,
      "metadata": {
        "id": "vnDTM4FePD9I"
      },
      "outputs": [],
      "source": [
        "class ViT(nn.Module):\n",
        "    def __init__(self, image_size, patch_size, num_classes, dim, depth, heads, mlp_dim, dropout):\n",
        "        super().__init__()\n",
        "        self.patch_size = patch_size\n",
        "        num_patches = (image_size // patch_size) ** 2\n",
        "        patch_dim = 3 * patch_size ** 2  # 3 is the number of image channels\n",
        "        self.patch_embedding = nn.Conv2d(3, dim, patch_size, stride=patch_size)\n",
        "        self.positional_embedding = nn.Parameter(torch.zeros(1, num_patches + 1, dim))\n",
        "        self.cls_token = nn.Parameter(torch.zeros(1, 1, dim))\n",
        "        self.dropout = nn.Dropout(dropout)\n",
        "        self.transformer_blocks = nn.ModuleList([\n",
        "            nn.TransformerEncoderLayer(d_model=dim, nhead=heads, dim_feedforward=mlp_dim, dropout=dropout)\n",
        "            for _ in range(depth)\n",
        "        ])\n",
        "        self.layer_norm = nn.LayerNorm(dim)\n",
        "        self.fc = nn.Linear(dim, num_classes)\n",
        "\n",
        "    def forward(self, x):\n",
        "        x = self.patch_embedding(x)\n",
        "        x = x.flatten(2).transpose(1, 2)\n",
        "        cls_tokens = self.cls_token.expand(x.shape[0], -1, -1)\n",
        "        x = torch.cat((cls_tokens, x), dim=1)\n",
        "        x = x + self.positional_embedding\n",
        "        x = self.dropout(x)\n",
        "        for transformer_block in self.transformer_blocks:\n",
        "            x = transformer_block(x)\n",
        "        x = self.layer_norm(x)\n",
        "        cls_token = x[:, 0]\n",
        "        x = self.fc(cls_token)\n",
        "        return x\n"
      ]
    },
    {
      "cell_type": "markdown",
      "metadata": {
        "id": "KDHaYFEkpXpj"
      },
      "source": [
        "**Ensuite, il faut définir les paramètres du modèle :**"
      ]
    },
    {
      "cell_type": "code",
      "execution_count": null,
      "metadata": {
        "id": "BkpYwfrCPJh6"
      },
      "outputs": [],
      "source": [
        "image_size = 224\n",
        "patch_size = 32\n",
        "num_classes = 2  # normal vs non normal\n",
        "dim = 768 # Cela indique que la dimension de l'espace de représentation de chaque token d'entrée\n",
        "depth = 12 # le nombre de couches du réseau de neurones transformer\n",
        "heads = 12 #le nombre de têtes d'attention utilisées dans chaque couche du transformer. Les têtes d'attention permettent au modèle de se concentrer sur différentes parties de l'entrée en parallèle\n",
        "mlp_dim = 3072 #a dimension de la couche cachée dans le réseau de neurones perceptron multicouche (MLP) utilisé dans chaque couche du transforme\n",
        "dropout = 0.1 # Le dropout est une technique de régularisation qui aide à prévenir le surapprentissage en désactivant certains neurones de manière aléatoire pendant l'entraînement.\n",
        "\n",
        "model = ViT(image_size, patch_size, num_classes, dim, depth, heads, mlp_dim, dropout)\n"
      ]
    },
    {
      "cell_type": "markdown",
      "metadata": {
        "id": "4TrrnJVkpfIR"
      },
      "source": [
        "**Ensuite, il faut définir les transformations à appliquer aux images :**\n",
        "**DATA AUGMENTATION**"
      ]
    },
    {
      "cell_type": "code",
      "execution_count": null,
      "metadata": {
        "id": "bQIO4SlwPQEb"
      },
      "outputs": [],
      "source": [
        "transform = transforms.Compose([\n",
        "    transforms.Resize((image_size, image_size)),\n",
        "    transforms.ToTensor(),\n",
        "    transforms.Normalize(mean=[0.485, 0.456, 0.406], std=[0.229, 0.224, 0.225])\n",
        "])\n"
      ]
    },
    {
      "cell_type": "markdown",
      "metadata": {
        "id": "-1fMCDxapm0E"
      },
      "source": [
        "**Ensuite, il faut charger les données :**"
      ]
    },
    {
      "cell_type": "code",
      "execution_count": null,
      "metadata": {
        "id": "7v-1MJNlPUL_"
      },
      "outputs": [],
      "source": [
        "\n",
        "train_dataset = datasets.ImageFolder('/content/drive/My Drive/pfa/dataset mini projet/entrai', transform=transform)\n",
        "train_loader = DataLoader(train_dataset, batch_size=16, shuffle=True)\n",
        "\n",
        "test_dataset = datasets.ImageFolder('/content/drive/My Drive/pfa/dataset mini projet/test', transform=transform)\n",
        "test_loader = DataLoader(test_dataset, batch_size=1, shuffle=False)\n"
      ]
    },
    {
      "cell_type": "markdown",
      "metadata": {
        "id": "WhhcSmvspuXI"
      },
      "source": [
        "**Ensuite, il faut définir l'optimiseur et la fonction de perte :**"
      ]
    },
    {
      "cell_type": "code",
      "execution_count": null,
      "metadata": {
        "id": "Xvk4Z7cDnTFx"
      },
      "outputs": [],
      "source": [
        "optimizer = optim.Adam(model.parameters(),lr=1e-3)\n",
        "criterion = nn.CrossEntropyLoss()"
      ]
    },
    {
      "cell_type": "markdown",
      "metadata": {
        "id": "cgp87Vnkp2ce"
      },
      "source": [
        "**Ensuite, il faut définir la boucle d'entraînement :**\n"
      ]
    },
    {
      "cell_type": "code",
      "execution_count": null,
      "metadata": {
        "colab": {
          "base_uri": "https://localhost:8080/"
        },
        "id": "YMkiMeT3oonT",
        "outputId": "1650dd55-f5f8-42e4-f422-af430db37907"
      },
      "outputs": [
        {
          "output_type": "stream",
          "name": "stdout",
          "text": [
            "Epoch 1/20 - Train Loss: 0.7067 - Train Acc: 0.5138 \n",
            "Epoch 2/20 - Train Loss: 0.6991 - Train Acc: 0.4974 \n",
            "Epoch 3/20 - Train Loss: 0.6981 - Train Acc: 0.5197 \n",
            "Epoch 4/20 - Train Loss: 0.6977 - Train Acc: 0.5321 \n",
            "Epoch 5/20 - Train Loss: 0.7113 - Train Acc: 0.4850 \n",
            "Epoch 6/20 - Train Loss: 0.7047 - Train Acc: 0.4926 \n",
            "Epoch 7/20 - Train Loss: 0.6969 - Train Acc: 0.5097 \n",
            "Epoch 8/20 - Train Loss: 0.7006 - Train Acc: 0.4903 \n",
            "Epoch 9/20 - Train Loss: 0.7004 - Train Acc: 0.4991 \n",
            "Epoch 10/20 - Train Loss: 0.6951 - Train Acc: 0.5026 \n",
            "Epoch 11/20 - Train Loss: 0.6975 - Train Acc: 0.4738 \n",
            "Epoch 12/20 - Train Loss: 0.6970 - Train Acc: 0.5044 \n",
            "Epoch 13/20 - Train Loss: 0.6955 - Train Acc: 0.4879 \n",
            "Epoch 14/20 - Train Loss: 0.6980 - Train Acc: 0.5015 \n",
            "Epoch 15/20 - Train Loss: 0.6972 - Train Acc: 0.4909 \n",
            "Epoch 16/20 - Train Loss: 0.6955 - Train Acc: 0.4756 \n",
            "Epoch 17/20 - Train Loss: 0.6970 - Train Acc: 0.4826 \n",
            "Epoch 18/20 - Train Loss: 0.6946 - Train Acc: 0.5091 \n",
            "Epoch 19/20 - Train Loss: 0.6970 - Train Acc: 0.5127 \n",
            "Epoch 20/20 - Train Loss: 0.6954 - Train Acc: 0.5121 \n"
          ]
        }
      ],
      "source": [
        "num_epochs = 20\n",
        "\n",
        "device = torch.device('cuda' if torch.cuda.is_available() else 'cpu')\n",
        "model.to(device)\n",
        "\n",
        "for epoch in range(num_epochs):\n",
        "    # Phase d'entraînement\n",
        "    model.train()\n",
        "    train_loss = 0.0\n",
        "    train_acc = 0.0\n",
        "    for i, (images, labels) in enumerate(train_loader):\n",
        "        images, labels = images.to(device), labels.to(device)\n",
        "\n",
        "        optimizer.zero_grad()\n",
        "        outputs = model(images)\n",
        "        loss = criterion(outputs, labels)\n",
        "        loss.backward()\n",
        "\n",
        "        # Détacher les gradients\n",
        "        outputs = outputs.detach()\n",
        "        loss = loss.detach()\n",
        "\n",
        "        optimizer.step()\n",
        "\n",
        "        train_loss += loss.item() * images.size(0)\n",
        "        _, predictions = torch.max(outputs, 1)\n",
        "        train_acc += torch.sum(predictions == labels.data)\n",
        "\n",
        "        # Libérez la mémoire des tensors non nécessaires\n",
        "        del predictions\n",
        "\n",
        "    train_loss = train_loss / len(train_loader.dataset)\n",
        "    train_acc = train_acc / len(train_loader.dataset)\n",
        "\n",
        "\n",
        "    # Afficher les résultats\n",
        "    print('Epoch {}/{} - Train Loss: {:.4f} - Train Acc: {:.4f} '.format(\n",
        "        epoch + 1, num_epochs, train_loss, train_acc))\n"
      ]
    },
    {
      "cell_type": "code",
      "execution_count": null,
      "metadata": {
        "id": "jd7QDh3SY3JO"
      },
      "outputs": [],
      "source": [
        "# Phase de test\n",
        "num_epochs = 20\n",
        "device = torch.device('cuda' if torch.cuda.is_available() else 'cpu')\n",
        "model.to(device)\n",
        "for epoch in range(num_epochs):\n",
        "    model.eval()\n",
        "    test_loss = 0.0\n",
        "    test_acc = 0.0\n",
        "    for i, (images, labels) in enumerate(test_loader):\n",
        "        images, labels = images.to(device), labels.to(device)\n",
        "\n",
        "        with torch.no_grad():\n",
        "            outputs = model(images)\n",
        "            loss = criterion(outputs, labels)\n",
        "\n",
        "        # Détacher les gradients\n",
        "        outputs = outputs.detach()\n",
        "        loss = loss.detach()\n",
        "\n",
        "        test_loss += loss.item() * images.size(0)\n",
        "        _, predictions = torch.max(outputs, 1)\n",
        "        test_acc += torch.sum(predictions == labels.data)\n",
        "\n",
        "        # Libérez la mémoire des tensors non nécessaires\n",
        "        del predictions\n",
        "\n",
        "    test_loss = test_loss / len(test_loader.dataset)\n",
        "    test_acc = test_acc / len(test_loader.dataset)"
      ]
    },
    {
      "cell_type": "code",
      "execution_count": null,
      "metadata": {
        "colab": {
          "base_uri": "https://localhost:8080/",
          "height": 311
        },
        "id": "11HkngYqpEYR",
        "outputId": "f0b21793-8874-4df8-d1ac-1f8c6d0aca96"
      },
      "outputs": [
        {
          "ename": "RuntimeError",
          "evalue": "ignored",
          "output_type": "error",
          "traceback": [
            "\u001b[0;31m---------------------------------------------------------------------------\u001b[0m",
            "\u001b[0;31mRuntimeError\u001b[0m                              Traceback (most recent call last)",
            "\u001b[0;32m<ipython-input-12-2124bdbe0bed>\u001b[0m in \u001b[0;36m<cell line: 1>\u001b[0;34m()\u001b[0m\n\u001b[0;32m----> 1\u001b[0;31m \u001b[0mtorch\u001b[0m\u001b[0;34m.\u001b[0m\u001b[0msave\u001b[0m\u001b[0;34m(\u001b[0m\u001b[0mmodel\u001b[0m\u001b[0;34m.\u001b[0m\u001b[0mstate_dict\u001b[0m\u001b[0;34m(\u001b[0m\u001b[0;34m)\u001b[0m\u001b[0;34m,\u001b[0m \u001b[0;34m'path/to/model.pth'\u001b[0m\u001b[0;34m)\u001b[0m\u001b[0;34m\u001b[0m\u001b[0;34m\u001b[0m\u001b[0m\n\u001b[0m",
            "\u001b[0;32m/usr/local/lib/python3.9/dist-packages/torch/serialization.py\u001b[0m in \u001b[0;36msave\u001b[0;34m(obj, f, pickle_module, pickle_protocol, _use_new_zipfile_serialization)\u001b[0m\n\u001b[1;32m    438\u001b[0m \u001b[0;34m\u001b[0m\u001b[0m\n\u001b[1;32m    439\u001b[0m     \u001b[0;32mif\u001b[0m \u001b[0m_use_new_zipfile_serialization\u001b[0m\u001b[0;34m:\u001b[0m\u001b[0;34m\u001b[0m\u001b[0;34m\u001b[0m\u001b[0m\n\u001b[0;32m--> 440\u001b[0;31m         \u001b[0;32mwith\u001b[0m \u001b[0m_open_zipfile_writer\u001b[0m\u001b[0;34m(\u001b[0m\u001b[0mf\u001b[0m\u001b[0;34m)\u001b[0m \u001b[0;32mas\u001b[0m \u001b[0mopened_zipfile\u001b[0m\u001b[0;34m:\u001b[0m\u001b[0;34m\u001b[0m\u001b[0;34m\u001b[0m\u001b[0m\n\u001b[0m\u001b[1;32m    441\u001b[0m             \u001b[0m_save\u001b[0m\u001b[0;34m(\u001b[0m\u001b[0mobj\u001b[0m\u001b[0;34m,\u001b[0m \u001b[0mopened_zipfile\u001b[0m\u001b[0;34m,\u001b[0m \u001b[0mpickle_module\u001b[0m\u001b[0;34m,\u001b[0m \u001b[0mpickle_protocol\u001b[0m\u001b[0;34m)\u001b[0m\u001b[0;34m\u001b[0m\u001b[0;34m\u001b[0m\u001b[0m\n\u001b[1;32m    442\u001b[0m             \u001b[0;32mreturn\u001b[0m\u001b[0;34m\u001b[0m\u001b[0;34m\u001b[0m\u001b[0m\n",
            "\u001b[0;32m/usr/local/lib/python3.9/dist-packages/torch/serialization.py\u001b[0m in \u001b[0;36m_open_zipfile_writer\u001b[0;34m(name_or_buffer)\u001b[0m\n\u001b[1;32m    313\u001b[0m     \u001b[0;32melse\u001b[0m\u001b[0;34m:\u001b[0m\u001b[0;34m\u001b[0m\u001b[0;34m\u001b[0m\u001b[0m\n\u001b[1;32m    314\u001b[0m         \u001b[0mcontainer\u001b[0m \u001b[0;34m=\u001b[0m \u001b[0m_open_zipfile_writer_buffer\u001b[0m\u001b[0;34m\u001b[0m\u001b[0;34m\u001b[0m\u001b[0m\n\u001b[0;32m--> 315\u001b[0;31m     \u001b[0;32mreturn\u001b[0m \u001b[0mcontainer\u001b[0m\u001b[0;34m(\u001b[0m\u001b[0mname_or_buffer\u001b[0m\u001b[0;34m)\u001b[0m\u001b[0;34m\u001b[0m\u001b[0;34m\u001b[0m\u001b[0m\n\u001b[0m\u001b[1;32m    316\u001b[0m \u001b[0;34m\u001b[0m\u001b[0m\n\u001b[1;32m    317\u001b[0m \u001b[0;34m\u001b[0m\u001b[0m\n",
            "\u001b[0;32m/usr/local/lib/python3.9/dist-packages/torch/serialization.py\u001b[0m in \u001b[0;36m__init__\u001b[0;34m(self, name)\u001b[0m\n\u001b[1;32m    286\u001b[0m \u001b[0;32mclass\u001b[0m \u001b[0m_open_zipfile_writer_file\u001b[0m\u001b[0;34m(\u001b[0m\u001b[0m_opener\u001b[0m\u001b[0;34m)\u001b[0m\u001b[0;34m:\u001b[0m\u001b[0;34m\u001b[0m\u001b[0;34m\u001b[0m\u001b[0m\n\u001b[1;32m    287\u001b[0m     \u001b[0;32mdef\u001b[0m \u001b[0m__init__\u001b[0m\u001b[0;34m(\u001b[0m\u001b[0mself\u001b[0m\u001b[0;34m,\u001b[0m \u001b[0mname\u001b[0m\u001b[0;34m)\u001b[0m \u001b[0;34m->\u001b[0m \u001b[0;32mNone\u001b[0m\u001b[0;34m:\u001b[0m\u001b[0;34m\u001b[0m\u001b[0;34m\u001b[0m\u001b[0m\n\u001b[0;32m--> 288\u001b[0;31m         \u001b[0msuper\u001b[0m\u001b[0;34m(\u001b[0m\u001b[0;34m)\u001b[0m\u001b[0;34m.\u001b[0m\u001b[0m__init__\u001b[0m\u001b[0;34m(\u001b[0m\u001b[0mtorch\u001b[0m\u001b[0;34m.\u001b[0m\u001b[0m_C\u001b[0m\u001b[0;34m.\u001b[0m\u001b[0mPyTorchFileWriter\u001b[0m\u001b[0;34m(\u001b[0m\u001b[0mstr\u001b[0m\u001b[0;34m(\u001b[0m\u001b[0mname\u001b[0m\u001b[0;34m)\u001b[0m\u001b[0;34m)\u001b[0m\u001b[0;34m)\u001b[0m\u001b[0;34m\u001b[0m\u001b[0;34m\u001b[0m\u001b[0m\n\u001b[0m\u001b[1;32m    289\u001b[0m \u001b[0;34m\u001b[0m\u001b[0m\n\u001b[1;32m    290\u001b[0m     \u001b[0;32mdef\u001b[0m \u001b[0m__exit__\u001b[0m\u001b[0;34m(\u001b[0m\u001b[0mself\u001b[0m\u001b[0;34m,\u001b[0m \u001b[0;34m*\u001b[0m\u001b[0margs\u001b[0m\u001b[0;34m)\u001b[0m \u001b[0;34m->\u001b[0m \u001b[0;32mNone\u001b[0m\u001b[0;34m:\u001b[0m\u001b[0;34m\u001b[0m\u001b[0;34m\u001b[0m\u001b[0m\n",
            "\u001b[0;31mRuntimeError\u001b[0m: Parent directory path/to does not exist."
          ]
        }
      ],
      "source": [
        "torch.save(model.state_dict(), 'model.pth')"
      ]
    },
    {
      "cell_type": "code",
      "execution_count": null,
      "metadata": {
        "id": "-HdgZiXX9DDe"
      },
      "outputs": [],
      "source": [
        "import torch\n",
        "from torchvision import transforms\n",
        "\n",
        "# Prétraitement des données\n",
        "transform = transforms.Compose([\n",
        "    transforms.Resize(224),\n",
        "    transforms.CenterCrop(224),\n",
        "    transforms.ToTensor(),\n",
        "    transforms.Normalize(mean=[0.485, 0.456, 0.406],\n",
        "                         std=[0.229, 0.224, 0.225])\n",
        "])\n",
        "new_data = transform(new_data)\n",
        "\n",
        "# Charger le modèle\n",
        "model = torch.load('model.pth')\n",
        "\n",
        "# Mettre le modèle en mode évaluation\n",
        "model.eval()\n",
        "\n",
        "# Faire des prédictions\n",
        "with torch.no_grad():\n",
        "    predictions = model(new_data.unsqueeze(0))\n",
        "\n",
        "# Interpréter les résultats\n",
        "print(predictions)\n"
      ]
    },
    {
      "cell_type": "markdown",
      "metadata": {
        "id": "7k76uSs-uxfi"
      },
      "source": [
        "matrice de confusion"
      ]
    },
    {
      "cell_type": "code",
      "execution_count": null,
      "metadata": {
        "id": "d4CLQQfRtx5z"
      },
      "outputs": [],
      "source": [
        "import numpy as np\n",
        "from sklearn.metrics import confusion_matrix\n",
        "\n",
        "def get_confusion_matrix(model, data_loader):\n",
        "    # Mettre le modèle en mode évaluation\n",
        "    model.eval()\n",
        "\n",
        "    # Initialiser les listes pour les vraies étiquettes (true_labels) et les prédictions (preds)\n",
        "    true_labels = []\n",
        "    preds = []\n",
        "\n",
        "    # Itérer à travers chaque lot (batch) d'images et d'étiquettes (labels) dans le dataloader\n",
        "    for images, labels in data_loader:\n",
        "        # Envoyer les données sur le GPU (s'il est disponible)\n",
        "        images = images.to(device)\n",
        "        labels = labels.to(device)\n",
        "\n",
        "        # Faire une prédiction pour chaque image dans le lot\n",
        "        with torch.no_grad():\n",
        "            outputs = model(images)\n",
        "            _, predictions = torch.max(outputs, 1)\n",
        "\n",
        "        # Ajouter les vraies étiquettes et les prédictions aux listes\n",
        "        true_labels.extend(labels.cpu().numpy())\n",
        "        preds.extend(predictions.cpu().numpy())\n",
        "\n",
        "    # Calculer la matrice de confusion en utilisant les vraies étiquettes et les prédictions\n",
        "    cm = confusion_matrix(true_labels, preds)\n",
        "\n",
        "    return cm"
      ]
    },
    {
      "cell_type": "markdown",
      "metadata": {
        "id": "CJx1wtBhuWmP"
      },
      "source": [
        "courbe loss pour train et test"
      ]
    },
    {
      "cell_type": "code",
      "execution_count": null,
      "metadata": {
        "id": "SZSO_luOuVKA"
      },
      "outputs": [],
      "source": [
        "import matplotlib.pyplot as plt\n",
        "\n",
        "def plot_loss(train_losses, test_losses):\n",
        "    # Tracer la loss pour les données d'entraînement et de test\n",
        "    plt.plot(train_losses, label='train')\n",
        "    plt.plot(test_losses, label='test')\n",
        "\n",
        "    # Ajouter les étiquettes d'axes et la légende\n",
        "    plt.xlabel('Epoch')\n",
        "    plt.ylabel('Loss')\n",
        "    plt.legend()\n",
        "\n",
        "    # Afficher le graphique\n",
        "    plt.show()"
      ]
    },
    {
      "cell_type": "markdown",
      "metadata": {
        "id": "D8yw3woExGar"
      },
      "source": [
        "courbe de gain test et train"
      ]
    },
    {
      "cell_type": "code",
      "execution_count": null,
      "metadata": {
        "id": "mIn1GtB2ujQr"
      },
      "outputs": [],
      "source": [
        "import matplotlib.pyplot as plt\n",
        "\n",
        "def plot_accuracy(train_accs, test_accs):\n",
        "    # Tracer l'accuracy pour les données d'entraînement et de test\n",
        "    plt.plot(train_accs, label='train')\n",
        "    plt.plot(test_accs, label='test')\n",
        "\n",
        "    # Ajouter les étiquettes d'axes et la légende\n",
        "    plt.xlabel('Epoch')\n",
        "    plt.ylabel('Accuracy')\n",
        "    plt.legend()\n",
        "\n",
        "    # Afficher le graphique\n",
        "    plt.show()\n"
      ]
    }
  ],
  "metadata": {
    "colab": {
      "provenance": []
    },
    "kernelspec": {
      "display_name": "Python 3",
      "name": "python3"
    }
  },
  "nbformat": 4,
  "nbformat_minor": 0
}